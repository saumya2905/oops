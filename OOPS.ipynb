{
  "nbformat": 4,
  "nbformat_minor": 0,
  "metadata": {
    "colab": {
      "provenance": []
    },
    "kernelspec": {
      "name": "python3",
      "display_name": "Python 3"
    },
    "language_info": {
      "name": "python"
    }
  },
  "cells": [
    {
      "cell_type": "code",
      "execution_count": null,
      "metadata": {
        "id": "7QPVJhow4PIG"
      },
      "outputs": [],
      "source": []
    },
    {
      "cell_type": "markdown",
      "source": [
        "Ques-1 What is Object-Oriented Programming (OOP)?\n",
        "Answer- Object Oriented Programming (OOP) is a programming paradigm that organizes code around objects rather than functions and logic. Objects represent real-world entities with attributes (data) and behaviors (methods).\n",
        "\n",
        "\n",
        "Ques-2 What is a class in OOP?\n",
        "Answer- Class is a blueprint for creating objects.\n",
        "\n",
        "Ques-3 What is an object in OOP?\n",
        "Answer- Object is an instance of a class with specific values.\n",
        "\n",
        "Ques-4 What is the difference between abstraction and encapsulation?\n",
        "Answer- Abstraction and Encapsulation are both fundamental concepts in Object-Oriented Programming (OOP), but they serve different purposes:\n",
        "1. Abstraction (Hiding Implementation Details)\n",
        "Focuses on hiding complex implementation details and showing only the necessary features.\n",
        "It helps in reducing complexity and increasing code readability.\n",
        "Implemented using abstract classes and interfaces.\n",
        "2. Encapsulation (Restricting Direct Access)\n",
        "Focuses on restricting direct access to data by binding data and methods inside a class.\n",
        "It prevents unintended modifications to the data and ensures security.\n",
        "Implemented using private (), protected (_), and public variables.\n",
        "\n",
        "Ques-5 What are dunder methods in Python?\n",
        "Answer- Dunder (Magic) Methods in Python\n",
        "Dunder (short for Double Underscore) methods, also called magic methods, are special methods in Python that start and end with double underscores (). They allow you to define how objects of a class behave with built-in Python operations like printing, addition, and comparisons.\n",
        "\n",
        "Ques-6  Explain the concept of inheritance in OOP.\n",
        "Answer- Inheritance in Object-Oriented Programming (OOP)\n",
        "Inheritance is a fundamental concept in OOP that allows a class (child class) to inherit properties and behaviors (methods) from another class (parent class). This promotes code reusability, hierarchy, and modularity in programs.\n",
        "\n",
        "Ques-7  What is polymorphism in OOP?\n",
        "Answer- Polymorphism in Object-Oriented Programming (OOP)\n",
        "Polymorphism means \"many forms\" and allows objects of different classes to be treated as objects of a common parent class. It enables code flexibility and reusability by allowing the same function or operator to work differently based on the object.\n",
        "\n",
        "Ques-8 How is encapsulation achieved in Python?\n",
        "Answer- Encapsulation in Python is achieved by restricting direct access to an object's data and modifying it only through methods. This helps protect data from accidental modification and ensures better security.\n",
        "\n",
        "\n",
        "Ques-9 What is a constructor in Python?\n",
        "Answer- A constructor in Python is a special method used to initialize objects when a class is instantiated (created). The constructor method is always named _init_(). It's called automatically when an object of a class is created and is typically used to set the initial values for the object's attributes.\n",
        "\n",
        "Ques-10 What are class and static methods in Python?\n",
        "Answer- In Python, class and static methods are types of methods that are associated with the class itself, rather than with instances (objects) of the class. They differ from instance methods in how they interact with the class and its objects.\n",
        "1. Class Methods\n",
        "A class method is bound to the class, not the instance. It can modify the class state that applies across all instances of the class.\n",
        "Defined using the @classmethod decorator and takes cls as the first parameter (instead of self, which refers to the instance).\n",
        "Syntax:\n",
        "class ClassName:\n",
        "    @classmethod\n",
        "    def method_name(cls, ...):\n",
        "        # method body\n",
        "2. Static Methods\n",
        "A static method is also bound to the class, but it doesn't take any special first argument (cls or self). It behaves like a normal function, but belongs to the class's namespace.\n",
        "Defined using the @staticmethod decorator. Static methods cannot modify the class or instance state.\n",
        "Syntax:\n",
        "class ClassName:\n",
        "    @staticmethod\n",
        "    def method_name(...):\n",
        "       # method body\n",
        "\n",
        "\n",
        "Ques-11 What is method overloading in Python?\n",
        "Answer- Method Overloading in Python\n",
        "In method overloading, a class can have multiple methods with the same name but with different signatures (different number or types of arguments). This allows the same method name to perform different operations based on the input parameters.\n",
        "However, Python does not support method overloading in the same way as other languages like Java or C++. In Python, if you define a method multiple times with the same name, the latest definition overrides the previous ones.\n",
        "\n",
        "Ques-12 What is method overriding in OOP?\n",
        "Answer- Method Overriding in Object-Oriented Programming (OOP)\n",
        "Method overriding is a feature in OOP that allows a child class to provide a specific implementation for a method that is already defined in its parent class. The child class method has the same name and same parameters as the method in the parent class, but it can implement its own behavior.\n",
        "Overriding is used to modify or extend the functionality of a method inherited from a parent class, providing more specific behavior in the child class.\n",
        "\n",
        "Ques-13 What is a property decorator in Python?\n",
        "Answer- The @property decorator in Python is used to define a method that behaves like an attribute. It allows you to define a method that can be accessed like an attribute, but with additional logic. This can be useful when you want to add getters, setters, or deleters to control access to instance variables, while still allowing the attribute to be accessed in a clean and readable way.\n",
        "\n",
        "Ques-14 Why is polymorphism important in OOP?\n",
        "Answer- Polymorphism is one of the core principles of OOP, along with encapsulation, inheritance, and abstraction. It allows objects of different types to be treated as objects of a common superclass. The term \"polymorphism\" comes from Greek, meaning \"many forms,\" and it enables a single interface to represent different underlying forms (or types).\n",
        "Importance of polymorphism-\n",
        "*eusability: Write code that can work with different types of objects.\n",
        "*Flexibility: Easily extend systems without modifying existing code.\n",
        "*Maintainability: Simplify the code and reduce complexity by using common interfaces.\n",
        "*Dynamic Behavior: Allow dynamic method binding at runtime.\n",
        "*Loose Coupling: Components depend on abstractions, not concrete implementations.\n",
        "\n",
        "Ques-15 What is an abstract class in Python?\n",
        "Answer- An abstract class in Python is a class that cannot be instantiated directly. It is designed to serve as a blueprint for other classes. Abstract classes are typically used when you want to define common methods or properties that must be implemented by subclasses, but the abstract class itself doesn't provide a complete implementation.\n",
        "In Python, abstract classes are defined using the abc (Abstract Base Class) module. The ABC class from the abc module is the base class for defining abstract classes, and the @abstractmethod decorator is used to mark methods that must be implemented by subclasses.\n",
        "\n",
        "Ques-16 What are the advantages of OOP?\n",
        "Answer- Object-oriented programming (OOP) has many advantages, including:\n",
        "*Modularity: OOP organizes code into self-contained units that are easier to troubleshoot and maintain.\n",
        "*Reusability: Code can be reused through inheritance, saving time and reducing development costs.\n",
        "*Security: Encapsulation protects data and makes code more secure.\n",
        "*Flexibility: Polymorphism allows a single function to adapt to different classes and objects.\n",
        "*Scalability: OOP makes it easy to add new features and scale systems.\n",
        "*Collaboration: OOP allows developers to work together on different parts of a system.\n",
        "*Problem-solving: OOP helps developers break down complex problems into smaller, more manageable pieces.\n",
        "*Abstraction: OOP simplifies complex systems by hiding implementation details and defining classes by their essential characteristics.\n",
        "*Efficiency: OOP improves code efficiency and maintainability.\n",
        "\n",
        "Ques-17 What is the difference between a class variable and an instance variable?\n",
        "Answer- The difference between a class variable and an instance variable lies in how they are used and where they are stored:\n",
        "1. Class Variable:\n",
        "A class variable is shared by all instances of a class.\n",
        "It is defined within the class but outside any methods.\n",
        "It is accessed using the class name or through any instance of the class.\n",
        "Class variables store data that should be the same for every instance of the class.\n",
        "2. Instance Variable:\n",
        "An instance variable is unique to each instance of the class.\n",
        "It is defined inside methods (usually the _init_ constructor) using self.\n",
        "Each object (instance) has its own copy of the instance variable.\n",
        "Instance variables store data that is specific to each instance.\n",
        "\n",
        "Ques-18 What is multiple inheritance in Python?\n",
        "Answer- Multiple inheritance in Python refers to the ability of a class to inherit attributes and methods from more than one parent class. This allows a class to combine functionality from multiple sources, enabling more flexible and reusable code.\n",
        "\n",
        "Ques-19 Explain the purpose of \"__str__\" and '__repr__' methods in Python?\n",
        "Answer- In Python, both _str_ and _repr_ are special methods used to define how an object should be represented as a string. The main difference lies in their intended purpose and how they are used.\n",
        "1. _str_ Method:\n",
        "Purpose: The _str_ method is used to define a human-readable string representation of an object. It is meant to provide a simple and user-friendly description of the object.\n",
        "Used by: It is called when you use the str() function or when the object is printed using the print() function.\n",
        "2. _repr_ Method:\n",
        "Purpose: The _repr_ method is used to define a formal string representation of an object, one that could ideally be used to recreate the object using eval(). Its goal is to provide an unambiguous, developer-friendly string representation.\n",
        "Used by: It is called when you use the repr() function or when you inspect the object in an interpreter (such as in a REPL).\n",
        "\n",
        "Ques-20 What is the significance of the 'super()' function in Python?\n",
        "Answer- The super() function in Python is used to call methods from a parent class (superclass) in a child class (subclass). It allows the subclass to invoke methods from its parent class without explicitly naming the parent class, which is useful in multiple inheritance and ensures that the correct method resolution order is followed.\n",
        "\n",
        "Ques-21 What is the significance of the __del__ method in Python?\n",
        "Answer- The _del_ method in Python is a special method, also known as a destructor. It is automatically called when an object is about to be destroyed (i.e., when its reference count drops to zero, and it is garbage collected). The primary purpose of the _del_ method is to perform cleanup operations, such as releasing resources (e.g., closing files, network connections, or database connections) before an object is removed from memory.\n",
        "\n",
        "Ques-22 What is the difference between @staticmethod and @classmethod in Python?\n",
        "Answer- In Python, both @staticmethod and @classmethod are decorators that define methods within a class, but they have key differences in how they operate and what they can access. Here's a breakdown of the differences:\n",
        "1. @staticmethod:\n",
        "Does not have access to the class or instance: A static method does not take self or cls as its first argument. It behaves like a regular function, but it belongs to the class's namespace.\n",
        "Usage: It's used when the method doesn't need to access or modify the instance (self) or the class (cls), but still logically belongs to the class.\n",
        "Can be called without an instance: A static method can be called on the class itself or on an instance of the class.\n",
        "2. @classmethod:\n",
        "Has access to the class (cls): A class method takes cls as its first argument, which refers to the class itself. It can modify class-level attributes but cannot directly access instance-level attributes.\n",
        "Usage: It's used when the method needs to access or modify class-level data or when you want to create factory methods that instantiate the class in a specific way.\n",
        "Can be called on the class or an instance: A class method can be called on both the class and an instance, but it always operates with respect to the class itself, not the instance.\n",
        "\n",
        "Ques-23 How does polymorphism work in Python with inheritance?\n",
        "Answer- Polymorphism in Python refers to the ability of different classes to provide a common interface and respond to the same method in different ways. It allows objects of different types to be treated as instances of the same class through inheritance, with each object responding differently to the same method call.\n",
        "In the context of inheritance, polymorphism allows child classes to define their own specific implementation of a method that is already defined in a parent class. This is commonly known as method overriding.\n",
        "Key Concepts:\n",
        "1. Method Overriding: When a subclass provides its own implementation of a method that is already defined in the parent class.\n",
        "2. Dynamic Method Resolution: Python determines which method to call at runtime based on the object's actual class, not the type of reference variable.\n",
        "How It Works in Inheritance:-\n",
        "When a method is called on an object, Python will search for the method starting from the object's class and moving up the class hierarchy (parent classes) until it finds the method or reaches the top of the inheritance chain (the base class). If a method is found in a subclass, it \"overrides\" the method in the parent class, and that version is executed.\n",
        "\n",
        "Ques-24 What is method chaining in Python OOP?\n",
        "Answer- Method chaining in Python (or in object-oriented programming in general) refers to the practice of calling multiple methods on the same object in a single line of code. Each method call returns the object itself (or another object that allows further method calls), which enables the chaining of method calls.\n",
        "How Method Chaining Works:\n",
        "Return self: To enable method chaining, each method in the chain must return the object (self) so that the next method can be called on that object.\n",
        "This allows you to perform multiple operations on an object without needing to repeatedly reference the object.\n",
        "Benefits:\n",
        "Compact Code: It reduces the need for multiple lines of code to perform successive operations on the same object.\n",
        "Readable: If used appropriately, it can make code more concise and readable by reducing repetition.\n",
        "\n",
        "Ques-25 What is the purpose of the __call__ method in Python?\n",
        "Answer- The _call_ method in Python is a special method that allows an instance of a class to be called like a function. When an object is called as if it were a function, the _call_ method is invoked, enabling you to define custom behavior for how the object should behave when called.\n",
        "Key Points:\n",
        "The _call_ method is defined within a class and is triggered when an instance of the class is called with parentheses, just like a function.\n",
        "This method can accept arguments, and it allows the object to behave similarly to a function, making it more flexible and interactive.\n",
        "The _call_ method is commonly used for implementing function-like objects, decorators, and callable objects in general.\n",
        "\n",
        "\n",
        "\n",
        "\n",
        "\n",
        "\n",
        "\n",
        "\n",
        "\n",
        "\n",
        "\n",
        "\n",
        "\n",
        "\n",
        "\n",
        "\n",
        "\n"
      ],
      "metadata": {
        "id": "bELIY6g14UT0"
      }
    },
    {
      "cell_type": "markdown",
      "source": [
        "# **** Practical Question\n"
      ],
      "metadata": {
        "id": "N5elfj3qQuTf"
      }
    },
    {
      "cell_type": "code",
      "source": [
        "#Q-1  Create a parent class Animal with a method speak() that prints a generic message. Create a child class Dog that overrides the speak() method to print \"Bark!\".\n",
        "class Animal:\n",
        "    def speak(self):\n",
        "        print(\"This animal makes a sound.\")\n",
        "\n",
        "class Dog(Animal):\n",
        "    def speak(self):\n",
        "        print(\"Bark!\")\n",
        "\n",
        "generic_animal = Animal()\n",
        "generic_animal.speak()\n",
        "\n",
        "dog = Dog()\n",
        "dog.speak()\n"
      ],
      "metadata": {
        "colab": {
          "base_uri": "https://localhost:8080/"
        },
        "id": "itvSUMeHQ2Nk",
        "outputId": "de184922-2371-47d2-ba12-1d8eec94b521"
      },
      "execution_count": null,
      "outputs": [
        {
          "output_type": "stream",
          "name": "stdout",
          "text": [
            "This animal makes a sound.\n",
            "Bark!\n"
          ]
        }
      ]
    },
    {
      "cell_type": "code",
      "source": [
        "#Q-2 Write a program to create an abstract class Shape with a method area(). Derive classes Circle and Rectangle from it and implement the area() method in both.\n",
        "\n",
        "from abc import ABC, abstractmethod\n",
        "import math\n",
        "\n",
        "\n",
        "class Shape(ABC):\n",
        "    @abstractmethod\n",
        "    def area(self):\n",
        "        pass\n",
        "\n",
        "class Circle(Shape):\n",
        "    def __init__(self, radius):\n",
        "        self.radius = radius\n",
        "\n",
        "    def area(self):\n",
        "        return math.pi * self.radius ** 2\n",
        "\n",
        "\n",
        "class Rectangle(Shape):\n",
        "    def __init__(self, width, height):\n",
        "        self.width = width\n",
        "        self.height = height\n",
        "\n",
        "    def area(self):\n",
        "        return self.width * self.height\n",
        "\n",
        "\n",
        "circle = Circle(5)\n",
        "print(\"Circle Area:\", circle.area())\n",
        "\n",
        "rectangle = Rectangle(4, 6)\n",
        "print(\"Rectangle Area:\", rectangle.area())"
      ],
      "metadata": {
        "colab": {
          "base_uri": "https://localhost:8080/"
        },
        "id": "N3_fAACQRh7F",
        "outputId": "74c76cd3-ade4-4841-fd8d-ea86a70fc783"
      },
      "execution_count": null,
      "outputs": [
        {
          "output_type": "stream",
          "name": "stdout",
          "text": [
            "Circle Area: 78.53981633974483\n",
            "Rectangle Area: 24\n"
          ]
        }
      ]
    },
    {
      "cell_type": "code",
      "source": [
        "#Q-3  Implement a multi-level inheritance scenario where a class Vehicle has an attribute type. Derive a class Car and further derive a class ElectricCar that adds a battery attribute.\n",
        "\n",
        "\n",
        "class Vehicle:\n",
        "    def __init__(self, type):\n",
        "        self.type = type\n",
        "\n",
        "    def display_info(self):\n",
        "        print(f\"Vehicle Type: {self.type}\")\n",
        "\n",
        "class Car(Vehicle):\n",
        "    def __init__(self, type, brand):\n",
        "        super().__init__(type)\n",
        "        self.brand = brand\n",
        "\n",
        "    def display_info(self):\n",
        "        super().display_info()\n",
        "        print(f\"Car Brand: {self.brand}\")\n",
        "\n",
        "class ElectricCar(Car):\n",
        "    def __init__(self, type, brand, battery):\n",
        "        super().__init__(type, brand)\n",
        "        self.battery = battery\n",
        "\n",
        "    def display_info(self):\n",
        "        super().display_info()\n",
        "        print(f\"Battery Capacity: {self.battery} kWh\")\n",
        "\n",
        "\n",
        "ev = ElectricCar(\"Sedan\", \"Tesla\", 75)\n",
        "ev.display_info()\n",
        "\n",
        "\n"
      ],
      "metadata": {
        "colab": {
          "base_uri": "https://localhost:8080/"
        },
        "id": "MnwRtltMTYKI",
        "outputId": "9e48587f-7756-4747-cf67-61180e3df976"
      },
      "execution_count": null,
      "outputs": [
        {
          "output_type": "stream",
          "name": "stdout",
          "text": [
            "Vehicle Type: Sedan\n",
            "Car Brand: Tesla\n",
            "Battery Capacity: 75 kWh\n"
          ]
        }
      ]
    },
    {
      "cell_type": "code",
      "source": [
        "#Q-4  Implement a multi-level inheritance scenario where a class Vehicle has an attribute type. Derive a class Car and further derive a class ElectricCar that adds a battery attribute.\n",
        "\n",
        "\n",
        "class Vehicle:\n",
        "    def __init__(self, type):\n",
        "        self.type = type\n",
        "\n",
        "    def display_info(self):\n",
        "        print(f\"Vehicle Type: {self.type}\")\n",
        "\n",
        "class Car(Vehicle):\n",
        "    def __init__(self, type, brand):\n",
        "        super().__init__(type)\n",
        "        self.brand = brand\n",
        "\n",
        "    def display_info(self):\n",
        "        super().display_info()\n",
        "        print(f\"Car Brand: {self.brand}\")\n",
        "\n",
        "\n",
        "class ElectricCar(Car):\n",
        "    def __init__(self, type, brand, battery):\n",
        "        super().__init__(type, brand)\n",
        "        self.battery = battery\n",
        "\n",
        "    def display_info(self):\n",
        "        super().display_info()\n",
        "        print(f\"Battery Capacity: {self.battery} kWh\")\n",
        "\n",
        "ev = ElectricCar(\"Sedan\", \"Tesla\", 75)\n",
        "ev.display_info()\n",
        "\n",
        "\n"
      ],
      "metadata": {
        "colab": {
          "base_uri": "https://localhost:8080/"
        },
        "id": "KaGMG5xzUHgB",
        "outputId": "3dff4d65-f85d-4c6a-8b92-3541b6195939"
      },
      "execution_count": null,
      "outputs": [
        {
          "output_type": "stream",
          "name": "stdout",
          "text": [
            "Vehicle Type: Sedan\n",
            "Car Brand: Tesla\n",
            "Battery Capacity: 75 kWh\n"
          ]
        }
      ]
    },
    {
      "cell_type": "code",
      "source": [],
      "metadata": {
        "id": "mQHtzWzpWAxE"
      },
      "execution_count": null,
      "outputs": []
    },
    {
      "cell_type": "code",
      "source": [
        "#Q-5  Write a program to demonstrate encapsulation by creating a class BankAccount with private attributes balance and methods to deposit, withdraw, and check balance.\n",
        "\n",
        "class BankAccount:\n",
        "    def __init__(self, initial_balance=0):\n",
        "        self.__balance = initial_balance\n",
        "\n",
        "    def deposit(self, amount):\n",
        "        \"\"\"Deposits money into the account.\"\"\"\n",
        "        if amount > 0:\n",
        "            self.__balance += amount\n",
        "            print(f\"Deposited: ${amount:.2f}\")\n",
        "        else:\n",
        "            print(\"Deposit amount must be positive.\")\n",
        "\n",
        "    def withdraw(self, amount):\n",
        "        \"\"\"Withdraws money if sufficient balance is available.\"\"\"\n",
        "        if 0 < amount <= self.__balance:\n",
        "            self.__balance -= amount\n",
        "            print(f\"Withdrawn: ${amount:.2f}\")\n",
        "        elif amount > self.__balance:\n",
        "            print(\"Insufficient balance.\")\n",
        "        else:\n",
        "            print(\"Withdrawal amount must be positive.\")\n",
        "\n",
        "    def get_balance(self):\n",
        "        \"\"\"Returns the current balance.\"\"\"\n",
        "        return self.__balance\n",
        "\n",
        "\n",
        "\n",
        "account = BankAccount(100)\n",
        "\n",
        "account.deposit(50)\n",
        "account.withdraw(30)\n",
        "print(f\"Current Balance: ${account.get_balance():.2f}\")\n",
        "\n",
        "\n"
      ],
      "metadata": {
        "colab": {
          "base_uri": "https://localhost:8080/"
        },
        "id": "ciIePCbBWA90",
        "outputId": "00e18ff9-c556-4f45-f549-34c77e2c03d5"
      },
      "execution_count": null,
      "outputs": [
        {
          "output_type": "stream",
          "name": "stdout",
          "text": [
            "Deposited: $50.00\n",
            "Withdrawn: $30.00\n",
            "Current Balance: $120.00\n"
          ]
        }
      ]
    },
    {
      "cell_type": "code",
      "source": [
        "#Q-6  Demonstrate runtime polymorphism using a method play() in a base class Instrument. Derive classes Guitar and Piano that implement their own version of play().\n",
        "\n",
        "\n",
        "class Instrument:\n",
        "    def play(self):\n",
        "        \"\"\"Base method to be overridden\"\"\"\n",
        "        print(\"Playing an instrument...\")\n",
        "\n",
        "\n",
        "class Guitar(Instrument):\n",
        "    def play(self):\n",
        "        print(\"Strumming the guitar 🎸!\")\n",
        "\n",
        "\n",
        "class Piano(Instrument):\n",
        "    def play(self):\n",
        "        print(\"Playing the piano 🎹!\")\n",
        "\n",
        "\n",
        "def play_instrument(instrument):\n",
        "    instrument.play()\n",
        "\n",
        "\n",
        "guitar = Guitar()\n",
        "piano = Piano()\n",
        "\n",
        "play_instrument(guitar)\n",
        "play_instrument(piano)\n"
      ],
      "metadata": {
        "colab": {
          "base_uri": "https://localhost:8080/"
        },
        "id": "CUczKvhLX8HH",
        "outputId": "3befe1be-e76f-4ac5-b6c4-f827f033c46c"
      },
      "execution_count": null,
      "outputs": [
        {
          "output_type": "stream",
          "name": "stdout",
          "text": [
            "Strumming the guitar 🎸!\n",
            "Playing the piano 🎹!\n"
          ]
        }
      ]
    },
    {
      "cell_type": "code",
      "source": [
        "#Q-7  Create a class MathOperations with a class method add_numbers() to add two numbers and a static method subtract_numbers() to subtract two numbers.\n",
        "\n",
        "class MathOperations:\n",
        "    @classmethod\n",
        "    def add_numbers(cls, a, b):\n",
        "        \"\"\"Class method to add two numbers.\"\"\"\n",
        "        return a + b\n",
        "\n",
        "    @staticmethod\n",
        "    def subtract_numbers(a, b):\n",
        "        \"\"\"Static method to subtract two numbers.\"\"\"\n",
        "        return a - b\n",
        "\n",
        "\n",
        "print(\"Addition:\", MathOperations.add_numbers(10, 5))\n",
        "print(\"Subtraction:\", MathOperations.subtract_numbers(10, 5))\n"
      ],
      "metadata": {
        "colab": {
          "base_uri": "https://localhost:8080/"
        },
        "id": "X4TtlOX6YuiU",
        "outputId": "6a1070b3-5f94-430a-f6d2-7d0e573d0e69"
      },
      "execution_count": null,
      "outputs": [
        {
          "output_type": "stream",
          "name": "stdout",
          "text": [
            "Addition: 15\n",
            "Subtraction: 5\n"
          ]
        }
      ]
    },
    {
      "cell_type": "code",
      "source": [
        "#Q-8  Implement a class Person with a class method to count the total number of persons created.\n",
        "\n",
        "class Person:\n",
        "    total_persons = 0  # Class attribute to track the count of persons\n",
        "\n",
        "    def __init__(self, name):\n",
        "        self.name = name\n",
        "        Person.total_persons += 1  # Increment count when a new person is created\n",
        "\n",
        "    @classmethod\n",
        "    def get_total_persons(cls):\n",
        "        \"\"\"Class method to return the total number of persons created.\"\"\"\n",
        "        return cls.total_persons\n",
        "\n",
        "# Example usage\n",
        "p1 = Person(\"Alice\")\n",
        "p2 = Person(\"Bob\")\n",
        "p3 = Person(\"Charlie\")\n",
        "\n",
        "print(\"Total persons created:\", Person.get_total_persons())\n"
      ],
      "metadata": {
        "id": "9GI3krlDZEQ6",
        "colab": {
          "base_uri": "https://localhost:8080/"
        },
        "outputId": "7a165a1c-ce63-435c-df79-2d31429fab92"
      },
      "execution_count": 9,
      "outputs": [
        {
          "output_type": "stream",
          "name": "stdout",
          "text": [
            "Total persons created: 3\n"
          ]
        }
      ]
    },
    {
      "cell_type": "code",
      "source": [
        "#Q-9  Write a class Fraction with attributes numerator and denominator. Override the str method to display the fraction as \"numerator/denominator\".\n",
        "\n",
        "class Fraction:\n",
        "    def __init__(self, numerator, denominator):\n",
        "        if denominator == 0:\n",
        "            raise ValueError(\"Denominator cannot be zero.\")  # Prevent division by zero\n",
        "        self.numerator = numerator\n",
        "        self.denominator = denominator\n",
        "\n",
        "    def __str__(self):\n",
        "        \"\"\"Overrides str() to display the fraction in 'numerator/denominator' format.\"\"\"\n",
        "        return f\"{self.numerator}/{self.denominator}\"\n",
        "\n",
        "# Example usage\n",
        "f1 = Fraction(3, 4)\n",
        "f2 = Fraction(7, 2)\n",
        "f3 = Fraction(5, 4)\n",
        "\n",
        "print(f1)\n",
        "print(f2)\n",
        "print(f3)"
      ],
      "metadata": {
        "colab": {
          "base_uri": "https://localhost:8080/"
        },
        "id": "HC-5nZLIZ8cG",
        "outputId": "f34ea0e0-8d90-4410-de5b-9db064cb306a"
      },
      "execution_count": 13,
      "outputs": [
        {
          "output_type": "stream",
          "name": "stdout",
          "text": [
            "3/4\n",
            "7/2\n",
            "5/4\n"
          ]
        }
      ]
    },
    {
      "cell_type": "code",
      "source": [
        "#Q-10  Demonstrate operator overloading by creating a class Vector and overriding the add method to add two vectors.\n",
        "class Vector:\n",
        "    def __init__(self, x, y):\n",
        "        self.x = x\n",
        "        self.y = y\n",
        "\n",
        "    def __add__(self, other):\n",
        "        \"\"\"Override the + operator to add two vectors.\"\"\"\n",
        "        if isinstance(other, Vector):\n",
        "            return Vector(self.x + other.x, self.y + other.y)\n",
        "        return NotImplemented\n",
        "\n",
        "    def __str__(self):\n",
        "        \"\"\"Override str() to represent the vector as '(x, y)'.\"\"\"\n",
        "        return f\"({self.x}, {self.y})\"\n",
        "\n",
        "# Example usage\n",
        "v1 = Vector(2, 3)\n",
        "v2 = Vector(4, 5)\n",
        "\n",
        "result = v1 + v2\n",
        "print(\"Result of v1 + v2:\", result)\n",
        "\n"
      ],
      "metadata": {
        "colab": {
          "base_uri": "https://localhost:8080/"
        },
        "id": "xYDtgn0pa1oq",
        "outputId": "25185b8d-29b0-4c22-9b7f-9b74d3206914"
      },
      "execution_count": 14,
      "outputs": [
        {
          "output_type": "stream",
          "name": "stdout",
          "text": [
            "Result of v1 + v2: (6, 8)\n"
          ]
        }
      ]
    },
    {
      "cell_type": "code",
      "source": [
        "#Q-11  Create a class Person with attributes name and age. Add a method greet() that prints \"Hello, my name is {name} and I am {age} years old.\"\n",
        "\n",
        "class Person:\n",
        "    def __init__(self, name, age):\n",
        "        self.name = name\n",
        "        self.age = age\n",
        "\n",
        "    def greet(self):\n",
        "        print(f\"Hello, my name is {self.name} and I am {self.age} years old.\")\n",
        "\n",
        "# Example usage\n",
        "person1 = Person(\"Saumya\", 21)\n",
        "person1.greet()  # Output: Hello, my name is Alice and I am 30 years old.\n",
        "\n",
        "person2 = Person(\"Abhishek\", 27)\n",
        "person2.greet()  # Output: Hello, my name is Bob and I am 25 years old.\n"
      ],
      "metadata": {
        "colab": {
          "base_uri": "https://localhost:8080/"
        },
        "id": "e-bFEeSIaV1e",
        "outputId": "04389b84-917a-4dc8-cd5d-e32d93082aef"
      },
      "execution_count": 15,
      "outputs": [
        {
          "output_type": "stream",
          "name": "stdout",
          "text": [
            "Hello, my name is Saumya and I am 21 years old.\n",
            "Hello, my name is Abhishek and I am 27 years old.\n"
          ]
        }
      ]
    },
    {
      "cell_type": "code",
      "source": [
        "#Q-12  Implement a class Student with attributes name and grades. Create a method average_grade() to compute the average of the grades.\n",
        "\n",
        "class Student:\n",
        "    def __init__(self, name, grades):\n",
        "        self.name = name\n",
        "        self.grades = grades  # List of grades\n",
        "\n",
        "    def average_grade(self):\n",
        "        \"\"\"Compute the average of the grades.\"\"\"\n",
        "        if len(self.grades) > 0:\n",
        "            return sum(self.grades) / len(self.grades)\n",
        "        return 0  # Return 0 if no grades are available\n",
        "\n",
        "# Example usage\n",
        "student1 = Student(\"Saumya\", [85, 90, 88, 92])\n",
        "print(f\"{student1.name}'s Average Grade: {student1.average_grade():.2f}\")\n",
        "\n",
        "student2 = Student(\"Abhishek\", [78, 81, 74, 80])\n",
        "print(f\"{student2.name}'s Average Grade: {student2.average_grade():.2f}\")\n"
      ],
      "metadata": {
        "colab": {
          "base_uri": "https://localhost:8080/"
        },
        "id": "_zvzdAeObx2-",
        "outputId": "665ad5d0-90a1-4484-b1d4-c5fc2703a7a9"
      },
      "execution_count": 16,
      "outputs": [
        {
          "output_type": "stream",
          "name": "stdout",
          "text": [
            "Saumya's Average Grade: 88.75\n",
            "Abhishek's Average Grade: 78.25\n"
          ]
        }
      ]
    },
    {
      "cell_type": "code",
      "source": [
        "#Q-13 Create a class Rectangle with methods set_dimensions() to set the dimensions and area() to calculate the area.\n",
        "\n",
        "class Rectangle:\n",
        "    def __init__(self):\n",
        "        self.length = 0\n",
        "        self.width = 0\n",
        "\n",
        "    def set_dimensions(self, length, width):\n",
        "        \"\"\"Set the dimensions of the rectangle.\"\"\"\n",
        "        self.length = length\n",
        "        self.width = width\n",
        "\n",
        "    def area(self):\n",
        "        \"\"\"Calculate and return the area of the rectangle.\"\"\"\n",
        "        return self.length * self.width\n",
        "\n",
        "\n",
        "rect = Rectangle()\n",
        "rect.set_dimensions(5, 3)\n",
        "print(f\"Area of rectangle: {rect.area()}\")\n",
        "\n",
        "rect.set_dimensions(7, 2)\n",
        "print(f\"Area of rectangle: {rect.area()}\")\n"
      ],
      "metadata": {
        "colab": {
          "base_uri": "https://localhost:8080/"
        },
        "id": "N0cECS_ycOLR",
        "outputId": "b19eea84-1b6c-4b8c-b281-3da4ea1d958a"
      },
      "execution_count": 17,
      "outputs": [
        {
          "output_type": "stream",
          "name": "stdout",
          "text": [
            "Area of rectangle: 15\n",
            "Area of rectangle: 14\n"
          ]
        }
      ]
    },
    {
      "cell_type": "code",
      "source": [
        "#Q-14 Create a class Employee with a method calculate_salary() that computes the salary based on hours worked and hourly rate. Create a derived class Manager that adds a bonus to the salary.\n",
        "\n",
        "class Employee:\n",
        "    def __init__(self, name, hours_worked, hourly_rate):\n",
        "        self.name = name\n",
        "        self.hours_worked = hours_worked\n",
        "        self.hourly_rate = hourly_rate\n",
        "\n",
        "    def calculate_salary(self):\n",
        "        \"\"\"Calculate the salary based on hours worked and hourly rate.\"\"\"\n",
        "        return self.hours_worked * self.hourly_rate\n",
        "\n",
        "\n",
        "class Manager(Employee):\n",
        "    def __init__(self, name, hours_worked, hourly_rate, bonus):\n",
        "        super().__init__(name, hours_worked, hourly_rate)\n",
        "        self.bonus = bonus\n",
        "\n",
        "    def calculate_salary(self):\n",
        "        \"\"\"Calculate salary with added bonus for Manager.\"\"\"\n",
        "        base_salary = super().calculate_salary()\n",
        "        return base_salary + self.bonus\n",
        "\n",
        "# Example usage\n",
        "employee1 = Employee(\"Saumya\", 40, 25)\n",
        "print(f\"{employee1.name}'s Salary: ${employee1.calculate_salary()}\")\n",
        "\n",
        "manager1 = Manager(\"Abhishek\", 40, 30, 500)\n",
        "print(f\"{manager1.name}'s Salary: ${manager1.calculate_salary()}\")\n"
      ],
      "metadata": {
        "colab": {
          "base_uri": "https://localhost:8080/"
        },
        "id": "4Iqqg7wscnm9",
        "outputId": "2149e1f6-ddcc-4531-bfd0-8b176dca13f9"
      },
      "execution_count": 19,
      "outputs": [
        {
          "output_type": "stream",
          "name": "stdout",
          "text": [
            "Saumya's Salary: $1000\n",
            "Abhishek's Salary: $1700\n"
          ]
        }
      ]
    },
    {
      "cell_type": "code",
      "source": [
        "#Q-15  Create a class Product with attributes name, price, and quantity. Implement a method total_price() that calculates the total price of the product.\n",
        "\n",
        "class Product:\n",
        "    def __init__(self, name, price, quantity):\n",
        "        self.name = name\n",
        "        self.price = price\n",
        "        self.quantity = quantity\n",
        "\n",
        "    def total_price(self):\n",
        "        \"\"\"Calculate the total price of the product based on quantity.\"\"\"\n",
        "        return self.price * self.quantity\n",
        "\n",
        "\n",
        "product1 = Product(\"Laptop\", 1000, 3)\n",
        "print(f\"Total price for {product1.name}: ${product1.total_price()}\")\n",
        "\n",
        "product2 = Product(\"Phone\", 500, 5)\n",
        "print(f\"Total price for {product2.name}: ${product2.total_price()}\")\n"
      ],
      "metadata": {
        "colab": {
          "base_uri": "https://localhost:8080/"
        },
        "id": "SXDTLkDTdGnL",
        "outputId": "04f5f4bc-7f09-4e1c-8e4c-be372563fc82"
      },
      "execution_count": 20,
      "outputs": [
        {
          "output_type": "stream",
          "name": "stdout",
          "text": [
            "Total price for Laptop: $3000\n",
            "Total price for Phone: $2500\n"
          ]
        }
      ]
    },
    {
      "cell_type": "code",
      "source": [
        "#Q-16  Create a class Animal with an abstract method sound(). Create two derived classes Cow and Sheep that implement the sound() method.\n",
        "\n",
        "from abc import ABC, abstractmethod\n",
        "\n",
        "# Abstract base class Animal\n",
        "class Animal(ABC):\n",
        "    @abstractmethod\n",
        "    def sound(self):\n",
        "        \"\"\"Abstract method to be implemented by subclasses.\"\"\"\n",
        "        pass\n",
        "\n",
        "# Derived class Cow\n",
        "class Cow(Animal):\n",
        "    def sound(self):\n",
        "        \"\"\"Cow's sound implementation.\"\"\"\n",
        "        return \"Moo!\"\n",
        "\n",
        "# Derived class Sheep\n",
        "class Sheep(Animal):\n",
        "    def sound(self):\n",
        "        \"\"\"Sheep's sound implementation.\"\"\"\n",
        "        return \"Baa!\"\n",
        "\n",
        "# Example usage\n",
        "cow = Cow()\n",
        "sheep = Sheep()\n",
        "\n",
        "print(f\"Cow says: {cow.sound()}\")\n",
        "print(f\"Sheep says: {sheep.sound()}\")\n"
      ],
      "metadata": {
        "colab": {
          "base_uri": "https://localhost:8080/"
        },
        "id": "iXNFaQMZdgux",
        "outputId": "5f0f495f-f2e1-48ca-ca8a-3a68e52870cd"
      },
      "execution_count": 21,
      "outputs": [
        {
          "output_type": "stream",
          "name": "stdout",
          "text": [
            "Cow says: Moo!\n",
            "Sheep says: Baa!\n"
          ]
        }
      ]
    },
    {
      "cell_type": "code",
      "source": [
        "#Q-17 Create a class Book with attributes title, author, and year_published. Add a method get_book_info() that returns a formatted string with the book's details.\n",
        "\n",
        "\n",
        "class Book:\n",
        "    def __init__(self, title, author, year_published):\n",
        "        self.title = title\n",
        "        self.author = author\n",
        "        self.year_published = year_published\n",
        "\n",
        "    def get_book_info(self):\n",
        "        \"\"\"Return formatted book details.\"\"\"\n",
        "        return f\"Title: {self.title}\\nAuthor: {self.author}\\nYear Published: {self.year_published}\"\n",
        "\n",
        "# Example usage\n",
        "book1 = Book(\"To Kill a Mockingbird\", \"Harper Lee\", 1960)\n",
        "book2 = Book(\"1984\", \"George Orwell\", 1949)\n",
        "\n",
        "print(book1.get_book_info())\n",
        "print(\"\\n\")\n",
        "print(book2.get_book_info())\n"
      ],
      "metadata": {
        "colab": {
          "base_uri": "https://localhost:8080/"
        },
        "id": "rA3MOrsgd0px",
        "outputId": "94ede847-711f-4e07-ed71-ac76fe528c79"
      },
      "execution_count": 22,
      "outputs": [
        {
          "output_type": "stream",
          "name": "stdout",
          "text": [
            "Title: To Kill a Mockingbird\n",
            "Author: Harper Lee\n",
            "Year Published: 1960\n",
            "\n",
            "\n",
            "Title: 1984\n",
            "Author: George Orwell\n",
            "Year Published: 1949\n"
          ]
        }
      ]
    },
    {
      "cell_type": "code",
      "source": [
        "#Q-18  Create a class House with attributes address and price. Create a derived class Mansion that adds an attribute number_of_rooms.\n",
        "\n",
        "class House:\n",
        "    def __init__(self, address, price):\n",
        "        self.address = address\n",
        "        self.price = price\n",
        "\n",
        "    def get_house_info(self):\n",
        "        \"\"\"Return formatted house details.\"\"\"\n",
        "        return f\"Address: {self.address}\\nPrice: ${self.price}\"\n",
        "\n",
        "# Derived class - Mansion\n",
        "class Mansion(House):\n",
        "    def __init__(self, address, price, number_of_rooms):\n",
        "        super().__init__(address, price)  # Call the parent constructor\n",
        "        self.number_of_rooms = number_of_rooms\n",
        "\n",
        "    def get_mansion_info(self):\n",
        "        \"\"\"Return formatted mansion details, including number of rooms.\"\"\"\n",
        "        house_info = super().get_house_info()  # Get info from the base class\n",
        "        return f\"{house_info}\\nNumber of Rooms: {self.number_of_rooms}\"\n",
        "\n",
        "# Example usage\n",
        "house = House(\"123 Main St\", 250000)\n",
        "mansion = Mansion(\"456 Luxury Ave\", 5000000, 12)\n",
        "\n",
        "print(\"House Info:\\n\")\n",
        "print(house.get_house_info())\n",
        "\n",
        "print(\"\\nMansion Info:\\n\")\n",
        "print(mansion.get_mansion_info())\n"
      ],
      "metadata": {
        "colab": {
          "base_uri": "https://localhost:8080/"
        },
        "id": "2MFOkoireJ9W",
        "outputId": "79c24ebb-afc7-4384-f45b-51c27309db38"
      },
      "execution_count": 23,
      "outputs": [
        {
          "output_type": "stream",
          "name": "stdout",
          "text": [
            "House Info:\n",
            "\n",
            "Address: 123 Main St\n",
            "Price: $250000\n",
            "\n",
            "Mansion Info:\n",
            "\n",
            "Address: 456 Luxury Ave\n",
            "Price: $5000000\n",
            "Number of Rooms: 12\n"
          ]
        }
      ]
    }
  ]
}